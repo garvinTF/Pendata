{
 "cells": [
  {
   "cell_type": "code",
   "execution_count": 1,
   "id": "8afb3d69",
   "metadata": {
    "scrolled": true
   },
   "outputs": [
    {
     "name": "stdout",
     "output_type": "stream",
     "text": [
      "Requirement already satisfied: pandas in c:\\users\\pdm\\appdata\\local\\packages\\pythonsoftwarefoundation.python.3.9_qbz5n2kfra8p0\\localcache\\local-packages\\python39\\site-packages (1.5.3)\n",
      "Requirement already satisfied: numpy>=1.20.3 in c:\\users\\pdm\\appdata\\local\\packages\\pythonsoftwarefoundation.python.3.9_qbz5n2kfra8p0\\localcache\\local-packages\\python39\\site-packages (from pandas) (1.24.2)\n",
      "Requirement already satisfied: python-dateutil>=2.8.1 in c:\\users\\pdm\\appdata\\local\\packages\\pythonsoftwarefoundation.python.3.9_qbz5n2kfra8p0\\localcache\\local-packages\\python39\\site-packages (from pandas) (2.8.2)\n",
      "Requirement already satisfied: pytz>=2020.1 in c:\\users\\pdm\\appdata\\local\\packages\\pythonsoftwarefoundation.python.3.9_qbz5n2kfra8p0\\localcache\\local-packages\\python39\\site-packages (from pandas) (2022.7.1)\n",
      "Requirement already satisfied: six>=1.5 in c:\\users\\pdm\\appdata\\local\\packages\\pythonsoftwarefoundation.python.3.9_qbz5n2kfra8p0\\localcache\\local-packages\\python39\\site-packages (from python-dateutil>=2.8.1->pandas) (1.16.0)\n"
     ]
    }
   ],
   "source": [
    "!pip install pandas"
   ]
  },
  {
   "cell_type": "code",
   "execution_count": 3,
   "id": "f8499ac3",
   "metadata": {
    "collapsed": true
   },
   "outputs": [
    {
     "name": "stdout",
     "output_type": "stream",
     "text": [
      "Collecting psycopg2\n",
      "  Downloading psycopg2-2.9.5-cp39-cp39-win_amd64.whl (1.2 MB)\n",
      "     ---------------------------------------- 0.0/1.2 MB ? eta -:--:--\n",
      "     - -------------------------------------- 0.0/1.2 MB 1.4 MB/s eta 0:00:01\n",
      "     -- ------------------------------------- 0.1/1.2 MB 1.7 MB/s eta 0:00:01\n",
      "     ---- ----------------------------------- 0.1/1.2 MB 1.0 MB/s eta 0:00:02\n",
      "     ----- ---------------------------------- 0.2/1.2 MB 1.1 MB/s eta 0:00:01\n",
      "     ------- -------------------------------- 0.2/1.2 MB 981.9 kB/s eta 0:00:01\n",
      "     --------- ------------------------------ 0.3/1.2 MB 1.0 MB/s eta 0:00:01\n",
      "     ------------- -------------------------- 0.4/1.2 MB 1.2 MB/s eta 0:00:01\n",
      "     --------------- ------------------------ 0.4/1.2 MB 1.3 MB/s eta 0:00:01\n",
      "     ----------------- ---------------------- 0.5/1.2 MB 1.2 MB/s eta 0:00:01\n",
      "     ------------------ --------------------- 0.5/1.2 MB 1.2 MB/s eta 0:00:01\n",
      "     ------------------ --------------------- 0.6/1.2 MB 1.1 MB/s eta 0:00:01\n",
      "     ---------------------- ----------------- 0.7/1.2 MB 1.2 MB/s eta 0:00:01\n",
      "     ------------------------ --------------- 0.7/1.2 MB 1.2 MB/s eta 0:00:01\n",
      "     ---------------------------- ----------- 0.8/1.2 MB 1.3 MB/s eta 0:00:01\n",
      "     ---------------------------- ----------- 0.8/1.2 MB 1.2 MB/s eta 0:00:01\n",
      "     ------------------------------- -------- 0.9/1.2 MB 1.2 MB/s eta 0:00:01\n",
      "     ---------------------------------- ----- 1.0/1.2 MB 1.3 MB/s eta 0:00:01\n",
      "     ------------------------------------- -- 1.1/1.2 MB 1.3 MB/s eta 0:00:01\n",
      "     -------------------------------------- - 1.1/1.2 MB 1.3 MB/s eta 0:00:01\n",
      "     -------------------------------------- - 1.1/1.2 MB 1.3 MB/s eta 0:00:01\n",
      "     ---------------------------------------  1.2/1.2 MB 1.2 MB/s eta 0:00:01\n",
      "     ---------------------------------------- 1.2/1.2 MB 1.1 MB/s eta 0:00:00\n",
      "Installing collected packages: psycopg2\n",
      "Successfully installed psycopg2-2.9.5\n"
     ]
    }
   ],
   "source": [
    "pip install psycopg2"
   ]
  },
  {
   "cell_type": "code",
   "execution_count": 16,
   "id": "3065ec9a",
   "metadata": {
    "scrolled": true
   },
   "outputs": [
    {
     "name": "stdout",
     "output_type": "stream",
     "text": [
      "Requirement already satisfied: sqlalchemy in a:\\new folder\\lib\\site-packages (2.0.4)\n",
      "Requirement already satisfied: greenlet!=0.4.17 in a:\\new folder\\lib\\site-packages (from sqlalchemy) (2.0.2)\n",
      "Requirement already satisfied: typing-extensions>=4.2.0 in a:\\new folder\\lib\\site-packages (from sqlalchemy) (4.5.0)\n",
      "Note: you may need to restart the kernel to use updated packages.\n"
     ]
    },
    {
     "name": "stderr",
     "output_type": "stream",
     "text": [
      "WARNING: You are using pip version 21.2.3; however, version 23.0.1 is available.\n",
      "You should consider upgrading via the 'A:\\New folder\\python.exe -m pip install --upgrade pip' command.\n"
     ]
    }
   ],
   "source": [
    "pip install sqlalchemy"
   ]
  },
  {
   "cell_type": "code",
   "execution_count": 33,
   "id": "bea1eb41",
   "metadata": {
    "scrolled": false
   },
   "outputs": [
    {
     "name": "stdout",
     "output_type": "stream",
     "text": [
      "Requirement already satisfied: Flask-SQLAlchemy in a:\\new folder\\lib\\site-packages (3.0.3)\n",
      "Requirement already satisfied: SQLAlchemy>=1.4.18 in a:\\new folder\\lib\\site-packages (from Flask-SQLAlchemy) (2.0.4)\n",
      "Requirement already satisfied: Flask>=2.2 in a:\\new folder\\lib\\site-packages (from Flask-SQLAlchemy) (2.2.3)\n",
      "Requirement already satisfied: Jinja2>=3.0 in a:\\new folder\\lib\\site-packages (from Flask>=2.2->Flask-SQLAlchemy) (3.1.2)\n",
      "Requirement already satisfied: Werkzeug>=2.2.2 in a:\\new folder\\lib\\site-packages (from Flask>=2.2->Flask-SQLAlchemy) (2.2.3)\n",
      "Requirement already satisfied: itsdangerous>=2.0 in a:\\new folder\\lib\\site-packages (from Flask>=2.2->Flask-SQLAlchemy) (2.1.2)\n",
      "Requirement already satisfied: click>=8.0 in a:\\new folder\\lib\\site-packages (from Flask>=2.2->Flask-SQLAlchemy) (8.1.3)\n",
      "Requirement already satisfied: colorama in a:\\new folder\\lib\\site-packages (from click>=8.0->Flask>=2.2->Flask-SQLAlchemy) (0.4.6)\n",
      "Requirement already satisfied: MarkupSafe>=2.0 in a:\\new folder\\lib\\site-packages (from Jinja2>=3.0->Flask>=2.2->Flask-SQLAlchemy) (2.1.2)\n",
      "Requirement already satisfied: typing-extensions>=4.2.0 in a:\\new folder\\lib\\site-packages (from SQLAlchemy>=1.4.18->Flask-SQLAlchemy) (4.5.0)\n",
      "Requirement already satisfied: greenlet!=0.4.17 in a:\\new folder\\lib\\site-packages (from SQLAlchemy>=1.4.18->Flask-SQLAlchemy) (2.0.2)\n",
      "Note: you may need to restart the kernel to use updated packages.\n"
     ]
    },
    {
     "name": "stderr",
     "output_type": "stream",
     "text": [
      "WARNING: You are using pip version 21.2.3; however, version 23.0.1 is available.\n",
      "You should consider upgrading via the 'A:\\New folder\\python.exe -m pip install --upgrade pip' command.\n"
     ]
    }
   ],
   "source": []
  },
  {
   "cell_type": "code",
   "execution_count": 3,
   "id": "95d9061d",
   "metadata": {
    "scrolled": false
   },
   "outputs": [],
   "source": [
    "import sqlalchemy as sa\n",
    "import pandas as pd\n",
    "import psycopg2 as ps\n"
   ]
  },
  {
   "cell_type": "code",
   "execution_count": 4,
   "id": "e007ea27",
   "metadata": {},
   "outputs": [
    {
     "name": "stderr",
     "output_type": "stream",
     "text": [
      "C:\\Users\\pdm\\AppData\\Local\\Temp\\ipykernel_257560\\1963941808.py:4: UserWarning: pandas only supports SQLAlchemy connectable (engine/connection) or database string URI or sqlite3 DBAPI2 connection. Other DBAPI2 objects are not tested. Please consider using SQLAlchemy.\n",
      "  df= pd.read_sql_query(isi,con)\n"
     ]
    },
    {
     "data": {
      "text/html": [
       "<div>\n",
       "<style scoped>\n",
       "    .dataframe tbody tr th:only-of-type {\n",
       "        vertical-align: middle;\n",
       "    }\n",
       "\n",
       "    .dataframe tbody tr th {\n",
       "        vertical-align: top;\n",
       "    }\n",
       "\n",
       "    .dataframe thead th {\n",
       "        text-align: right;\n",
       "    }\n",
       "</style>\n",
       "<table border=\"1\" class=\"dataframe\">\n",
       "  <thead>\n",
       "    <tr style=\"text-align: right;\">\n",
       "      <th></th>\n",
       "      <th>sepal_length</th>\n",
       "      <th>sepal_width</th>\n",
       "      <th>petal_length</th>\n",
       "      <th>petal_width</th>\n",
       "      <th>variety</th>\n",
       "    </tr>\n",
       "  </thead>\n",
       "  <tbody>\n",
       "    <tr>\n",
       "      <th>0</th>\n",
       "      <td>5.1</td>\n",
       "      <td>3.5</td>\n",
       "      <td>1.4</td>\n",
       "      <td>.2</td>\n",
       "      <td>Setosa</td>\n",
       "    </tr>\n",
       "    <tr>\n",
       "      <th>1</th>\n",
       "      <td>4.9</td>\n",
       "      <td>3</td>\n",
       "      <td>1.4</td>\n",
       "      <td>.2</td>\n",
       "      <td>Setosa</td>\n",
       "    </tr>\n",
       "    <tr>\n",
       "      <th>2</th>\n",
       "      <td>4.7</td>\n",
       "      <td>3.2</td>\n",
       "      <td>1.3</td>\n",
       "      <td>.2</td>\n",
       "      <td>Setosa</td>\n",
       "    </tr>\n",
       "    <tr>\n",
       "      <th>3</th>\n",
       "      <td>4.6</td>\n",
       "      <td>3.1</td>\n",
       "      <td>1.5</td>\n",
       "      <td>.2</td>\n",
       "      <td>Setosa</td>\n",
       "    </tr>\n",
       "    <tr>\n",
       "      <th>4</th>\n",
       "      <td>5</td>\n",
       "      <td>3.6</td>\n",
       "      <td>1.4</td>\n",
       "      <td>.2</td>\n",
       "      <td>Setosa</td>\n",
       "    </tr>\n",
       "    <tr>\n",
       "      <th>...</th>\n",
       "      <td>...</td>\n",
       "      <td>...</td>\n",
       "      <td>...</td>\n",
       "      <td>...</td>\n",
       "      <td>...</td>\n",
       "    </tr>\n",
       "    <tr>\n",
       "      <th>145</th>\n",
       "      <td>6.7</td>\n",
       "      <td>3</td>\n",
       "      <td>5.2</td>\n",
       "      <td>2.3</td>\n",
       "      <td>Virginica</td>\n",
       "    </tr>\n",
       "    <tr>\n",
       "      <th>146</th>\n",
       "      <td>6.3</td>\n",
       "      <td>2.5</td>\n",
       "      <td>5</td>\n",
       "      <td>1.9</td>\n",
       "      <td>Virginica</td>\n",
       "    </tr>\n",
       "    <tr>\n",
       "      <th>147</th>\n",
       "      <td>6.5</td>\n",
       "      <td>3</td>\n",
       "      <td>5.2</td>\n",
       "      <td>2</td>\n",
       "      <td>Virginica</td>\n",
       "    </tr>\n",
       "    <tr>\n",
       "      <th>148</th>\n",
       "      <td>6.2</td>\n",
       "      <td>3.4</td>\n",
       "      <td>5.4</td>\n",
       "      <td>2.3</td>\n",
       "      <td>Virginica</td>\n",
       "    </tr>\n",
       "    <tr>\n",
       "      <th>149</th>\n",
       "      <td>5.9</td>\n",
       "      <td>3</td>\n",
       "      <td>5.1</td>\n",
       "      <td>1.8</td>\n",
       "      <td>Virginica</td>\n",
       "    </tr>\n",
       "  </tbody>\n",
       "</table>\n",
       "<p>150 rows × 5 columns</p>\n",
       "</div>"
      ],
      "text/plain": [
       "    sepal_length sepal_width petal_length petal_width    variety\n",
       "0            5.1         3.5          1.4          .2     Setosa\n",
       "1            4.9           3          1.4          .2     Setosa\n",
       "2            4.7         3.2          1.3          .2     Setosa\n",
       "3            4.6         3.1          1.5          .2     Setosa\n",
       "4              5         3.6          1.4          .2     Setosa\n",
       "..           ...         ...          ...         ...        ...\n",
       "145          6.7           3          5.2         2.3  Virginica\n",
       "146          6.3         2.5            5         1.9  Virginica\n",
       "147          6.5           3          5.2           2  Virginica\n",
       "148          6.2         3.4          5.4         2.3  Virginica\n",
       "149          5.9           3          5.1         1.8  Virginica\n",
       "\n",
       "[150 rows x 5 columns]"
      ]
     },
     "execution_count": 4,
     "metadata": {},
     "output_type": "execute_result"
    }
   ],
   "source": [
    "con = ps.connect(dbname=\"postgres\",user=\"postgres\",password=\"Garvin123\",host=\"localhost\",\n",
    "                port=\"5432\")\n",
    "isi=\"\"\"select * from public.iris\"\"\"\n",
    "df= pd.read_sql_query(isi,con)\n",
    "df"
   ]
  },
  {
   "cell_type": "code",
   "execution_count": null,
   "id": "3ec6602a",
   "metadata": {
    "scrolled": false
   },
   "outputs": [],
   "source": []
  },
  {
   "cell_type": "code",
   "execution_count": null,
   "id": "2492ec24",
   "metadata": {
    "scrolled": true
   },
   "outputs": [],
   "source": []
  },
  {
   "cell_type": "code",
   "execution_count": null,
   "id": "63b3d5fd",
   "metadata": {},
   "outputs": [],
   "source": []
  },
  {
   "cell_type": "code",
   "execution_count": null,
   "id": "ff5bbaee",
   "metadata": {},
   "outputs": [],
   "source": []
  }
 ],
 "metadata": {
  "kernelspec": {
   "display_name": "Python 3 (ipykernel)",
   "language": "python",
   "name": "python3"
  },
  "language_info": {
   "codemirror_mode": {
    "name": "ipython",
    "version": 3
   },
   "file_extension": ".py",
   "mimetype": "text/x-python",
   "name": "python",
   "nbconvert_exporter": "python",
   "pygments_lexer": "ipython3",
   "version": "3.10.0"
  }
 },
 "nbformat": 4,
 "nbformat_minor": 5
}
